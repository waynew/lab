{
 "cells": [
  {
   "cell_type": "markdown",
   "metadata": {},
   "source": [
    "# Vehicle Ownership\n",
    "\n",
    "I want to explore some of the potential costs of vehicle ownership - to see if it's more or less expensive to have different configurations."
   ]
  },
  {
   "cell_type": "code",
   "execution_count": 2,
   "metadata": {},
   "outputs": [
    {
     "name": "stdout",
     "output_type": "stream",
     "text": [
      "Checking if github renders this stuff 0\n",
      "Checking if github renders this stuff 1\n",
      "Checking if github renders this stuff 2\n",
      "Checking if github renders this stuff 3\n",
      "Checking if github renders this stuff 4\n",
      "Checking if github renders this stuff 5\n",
      "Checking if github renders this stuff 6\n",
      "Checking if github renders this stuff 7\n",
      "Checking if github renders this stuff 8\n",
      "Checking if github renders this stuff 9\n"
     ]
    }
   ],
   "source": [
    "for x in range(10):\n",
    "    print(f'Checking if github renders this stuff {x}')"
   ]
  }
 ],
 "metadata": {
  "kernelspec": {
   "display_name": "Python 3",
   "language": "python",
   "name": "python3"
  },
  "language_info": {
   "codemirror_mode": {
    "name": "ipython",
    "version": 3
   },
   "file_extension": ".py",
   "mimetype": "text/x-python",
   "name": "python",
   "nbconvert_exporter": "python",
   "pygments_lexer": "ipython3",
   "version": "3.6.1"
  }
 },
 "nbformat": 4,
 "nbformat_minor": 2
}
